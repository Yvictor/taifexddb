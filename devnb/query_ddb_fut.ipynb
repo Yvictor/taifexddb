{
 "cells": [
  {
   "cell_type": "code",
   "execution_count": 1,
   "metadata": {},
   "outputs": [],
   "source": [
    "import dolphindb"
   ]
  },
  {
   "cell_type": "code",
   "execution_count": 2,
   "metadata": {},
   "outputs": [],
   "source": [
    "sess = dolphindb.session()"
   ]
  },
  {
   "cell_type": "code",
   "execution_count": 3,
   "metadata": {},
   "outputs": [
    {
     "data": {
      "text/plain": [
       "True"
      ]
     },
     "execution_count": 3,
     "metadata": {},
     "output_type": "execute_result"
    }
   ],
   "source": [
    "sess.connect('localhost', 8848, '', '')"
   ]
  },
  {
   "cell_type": "code",
   "execution_count": 4,
   "metadata": {},
   "outputs": [],
   "source": [
    "LOAD_TABLE = \"\"\"\n",
    "futTaifex = loadTable(\"dfs://futTaifex\", `futTaifex)\n",
    "\"\"\"\n",
    "sess.run(LOAD_TABLE)"
   ]
  },
  {
   "cell_type": "code",
   "execution_count": 7,
   "metadata": {},
   "outputs": [
    {
     "data": {
      "text/html": [
       "<div>\n",
       "<style scoped>\n",
       "    .dataframe tbody tr th:only-of-type {\n",
       "        vertical-align: middle;\n",
       "    }\n",
       "\n",
       "    .dataframe tbody tr th {\n",
       "        vertical-align: top;\n",
       "    }\n",
       "\n",
       "    .dataframe thead th {\n",
       "        text-align: right;\n",
       "    }\n",
       "</style>\n",
       "<table border=\"1\" class=\"dataframe\">\n",
       "  <thead>\n",
       "    <tr style=\"text-align: right;\">\n",
       "      <th></th>\n",
       "      <th>DateTime</th>\n",
       "      <th>Code</th>\n",
       "      <th>Settle</th>\n",
       "      <th>Price</th>\n",
       "      <th>Volume</th>\n",
       "    </tr>\n",
       "  </thead>\n",
       "  <tbody>\n",
       "    <tr>\n",
       "      <th>0</th>\n",
       "      <td>2019-04-02 00:00:01</td>\n",
       "      <td>TX</td>\n",
       "      <td>201904</td>\n",
       "      <td>10666.0</td>\n",
       "      <td>2</td>\n",
       "    </tr>\n",
       "    <tr>\n",
       "      <th>1</th>\n",
       "      <td>2019-04-02 00:00:01</td>\n",
       "      <td>TX</td>\n",
       "      <td>201904</td>\n",
       "      <td>10667.0</td>\n",
       "      <td>4</td>\n",
       "    </tr>\n",
       "    <tr>\n",
       "      <th>2</th>\n",
       "      <td>2019-04-02 00:00:01</td>\n",
       "      <td>TX</td>\n",
       "      <td>201904</td>\n",
       "      <td>10667.0</td>\n",
       "      <td>16</td>\n",
       "    </tr>\n",
       "    <tr>\n",
       "      <th>3</th>\n",
       "      <td>2019-04-02 00:00:01</td>\n",
       "      <td>TX</td>\n",
       "      <td>201904</td>\n",
       "      <td>10667.0</td>\n",
       "      <td>2</td>\n",
       "    </tr>\n",
       "    <tr>\n",
       "      <th>4</th>\n",
       "      <td>2019-04-02 00:00:01</td>\n",
       "      <td>TX</td>\n",
       "      <td>201904</td>\n",
       "      <td>10667.0</td>\n",
       "      <td>2</td>\n",
       "    </tr>\n",
       "    <tr>\n",
       "      <th>...</th>\n",
       "      <td>...</td>\n",
       "      <td>...</td>\n",
       "      <td>...</td>\n",
       "      <td>...</td>\n",
       "      <td>...</td>\n",
       "    </tr>\n",
       "    <tr>\n",
       "      <th>535374</th>\n",
       "      <td>2019-04-17 13:29:59</td>\n",
       "      <td>TX</td>\n",
       "      <td>201904</td>\n",
       "      <td>11004.0</td>\n",
       "      <td>4</td>\n",
       "    </tr>\n",
       "    <tr>\n",
       "      <th>535375</th>\n",
       "      <td>2019-04-17 13:29:59</td>\n",
       "      <td>TX</td>\n",
       "      <td>201904</td>\n",
       "      <td>11004.0</td>\n",
       "      <td>2</td>\n",
       "    </tr>\n",
       "    <tr>\n",
       "      <th>535376</th>\n",
       "      <td>2019-04-17 13:29:59</td>\n",
       "      <td>TX</td>\n",
       "      <td>201904</td>\n",
       "      <td>11004.0</td>\n",
       "      <td>4</td>\n",
       "    </tr>\n",
       "    <tr>\n",
       "      <th>535377</th>\n",
       "      <td>2019-04-17 13:30:00</td>\n",
       "      <td>TX</td>\n",
       "      <td>201904</td>\n",
       "      <td>11004.0</td>\n",
       "      <td>4</td>\n",
       "    </tr>\n",
       "    <tr>\n",
       "      <th>535378</th>\n",
       "      <td>2019-04-17 13:30:00</td>\n",
       "      <td>TX</td>\n",
       "      <td>201904</td>\n",
       "      <td>11004.0</td>\n",
       "      <td>2</td>\n",
       "    </tr>\n",
       "  </tbody>\n",
       "</table>\n",
       "<p>535379 rows × 5 columns</p>\n",
       "</div>"
      ],
      "text/plain": [
       "                  DateTime Code  Settle    Price  Volume\n",
       "0      2019-04-02 00:00:01   TX  201904  10666.0       2\n",
       "1      2019-04-02 00:00:01   TX  201904  10667.0       4\n",
       "2      2019-04-02 00:00:01   TX  201904  10667.0      16\n",
       "3      2019-04-02 00:00:01   TX  201904  10667.0       2\n",
       "4      2019-04-02 00:00:01   TX  201904  10667.0       2\n",
       "...                    ...  ...     ...      ...     ...\n",
       "535374 2019-04-17 13:29:59   TX  201904  11004.0       4\n",
       "535375 2019-04-17 13:29:59   TX  201904  11004.0       2\n",
       "535376 2019-04-17 13:29:59   TX  201904  11004.0       4\n",
       "535377 2019-04-17 13:30:00   TX  201904  11004.0       4\n",
       "535378 2019-04-17 13:30:00   TX  201904  11004.0       2\n",
       "\n",
       "[535379 rows x 5 columns]"
      ]
     },
     "execution_count": 7,
     "metadata": {},
     "output_type": "execute_result"
    }
   ],
   "source": [
    "sess.run(\"\"\"\n",
    "select concatDateTime(Date, Time) as DateTime, Code, Settle, \n",
    "       Price, Volume from futTaifex where Code=='TX', Settle=='201904', Date > 2019.04.01\n",
    "\"\"\")"
   ]
  }
 ],
 "metadata": {
  "kernelspec": {
   "display_name": "Python 3",
   "language": "python",
   "name": "python3"
  },
  "language_info": {
   "codemirror_mode": {
    "name": "ipython",
    "version": 3
   },
   "file_extension": ".py",
   "mimetype": "text/x-python",
   "name": "python",
   "nbconvert_exporter": "python",
   "pygments_lexer": "ipython3",
   "version": "3.7.6"
  }
 },
 "nbformat": 4,
 "nbformat_minor": 4
}
